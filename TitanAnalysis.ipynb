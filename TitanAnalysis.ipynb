{
 "cells": [
  {
   "cell_type": "code",
   "execution_count": 1,
   "id": "1f035219",
   "metadata": {},
   "outputs": [
    {
     "name": "stdout",
     "output_type": "stream",
     "text": [
      "      user_id         proj_area  node_count  \\\n",
      "0     User761  Computer Science        32.0   \n",
      "1     User761  Computer Science        32.0   \n",
      "2     User761  Computer Science        32.0   \n",
      "3     User761  Computer Science        32.0   \n",
      "4     User761  Computer Science        16.0   \n",
      "...       ...               ...         ...   \n",
      "7019  User761  Computer Science        32.0   \n",
      "7020  User761  Computer Science        32.0   \n",
      "7021  User761  Computer Science        32.0   \n",
      "7022  User761  Computer Science        16.0   \n",
      "7023  User761  Computer Science        16.0   \n",
      "\n",
      "                                    command  \n",
      "0     /lustre/atlas/User761/Area15-36/caffe  \n",
      "1     /lustre/atlas/User761/Area15-36/caffe  \n",
      "2     /lustre/atlas/User761/Area15-36/caffe  \n",
      "3     /lustre/atlas/User761/Area15-36/caffe  \n",
      "4     /lustre/atlas/User761/Area15-36/caffe  \n",
      "...                                     ...  \n",
      "7019  /lustre/atlas/User761/Area15-36/caffe  \n",
      "7020  /lustre/atlas/User761/Area15-36/caffe  \n",
      "7021  /lustre/atlas/User761/Area15-36/caffe  \n",
      "7022  /lustre/atlas/User761/Area15-36/caffe  \n",
      "7023  /lustre/atlas/User761/Area15-36/caffe  \n",
      "\n",
      "[7024 rows x 4 columns]\n"
     ]
    }
   ],
   "source": [
    "import numpy as np \n",
    "import pandas as pd\n",
    "import matplotlib.pyplot as plt\n",
    "import seaborn as sns\n",
    "titan = pd.read_csv('/Users/Natasha/Downloads/titan_dl_jobs_labelled.csv')\n",
    "df = pd.DataFrame(titan, columns= ['user_id','proj_area','node_count','command'])\n",
    "print(df)"
   ]
  },
  {
   "cell_type": "code",
   "execution_count": 4,
   "id": "7098e3f5",
   "metadata": {},
   "outputs": [
    {
     "name": "stdout",
     "output_type": "stream",
     "text": [
      "No. of Unique Users:  19\n",
      "{'<=16': 2222, '16-32': 931, '32-64': 3378, '64-500': 369, '500-15000': 111, '>15000': 13}\n"
     ]
    },
    {
     "data": {
      "image/png": "[encoded data removed]",
      "text/plain": [
       "<Figure size 432x288 with 1 Axes>"
      ]
     },
     "metadata": {
      "needs_background": "light"
     },
     "output_type": "display_data"
    }
   ],
   "source": [
    "users=[]\n",
    "projects=[]\n",
    "nodes=[]\n",
    "commands=[]\n",
    "nodes_hm={\"<10\":0,\"10-100\":0,\"100-500\":0,\"500-1000\":0,\">1000\":0}\n",
    "nodes_hm2={\"<=16\":0,\"16-32\":0,\"32-64\":0,\"64-500\":0,\"500-15000\":0,\">15000\":0}\n",
    "for user in df['user_id']:\n",
    "    users.append(user)\n",
    "for proj in df['proj_area']:\n",
    "    projects.append(proj)\n",
    "for comm in df['command']:\n",
    "    commands.append(comm)\n",
    "        \n",
    "for node in df['node_count']:\n",
    "    nodes.append(node)\n",
    "    if node<16:\n",
    "        nodes_hm2[\"<=16\"]+=1\n",
    "    elif node in range(16,32):\n",
    "        nodes_hm2[\"16-32\"]+=1\n",
    "    elif node in range(32,64):\n",
    "        nodes_hm2[\"32-64\"]+=1\n",
    "    elif node in range(64,500):\n",
    "        nodes_hm2[\"64-500\"]+=1\n",
    "    elif node in range(500,15000):\n",
    "        nodes_hm2[\"500-15000\"]+=1\n",
    "    else:\n",
    "        nodes_hm2[\">15000\"]+=1\n",
    "\n",
    "print(\"No. of Unique Users: \",len(set(users)))\n",
    " \n",
    "# # Show plot\n",
    "# plt.show()\n",
    "print(nodes_hm2)\n",
    "plt.hist(nodes, bins=[0,16,32,64,500,15000])\n",
    "plt.title(\"No. of jobs in each category\")\n",
    "plt.show()"
   ]
  },
  {
   "cell_type": "markdown",
   "id": "93547e89",
   "metadata": {},
   "source": [
    "count_hm={}\n",
    "project_hm={}\n",
    "for i in range(len(users)):\n",
    "    if users[i] in count_hm:\n",
    "        count_hm[users[i]]+=1\n",
    "    else:\n",
    "        count_hm[users[i]]=1\n",
    "print(\"Unique Users: \",len(count_hm))\n",
    "for i in range(len(projects)):\n",
    "    if projects[i] in project_hm:\n",
    "        project_hm[projects[i]]+=1\n",
    "    else:\n",
    "        project_hm[projects[i]]=1\n",
    "print(project_hm)"
   ]
  },
  {
   "cell_type": "code",
   "execution_count": 3,
   "id": "a9967f4b",
   "metadata": {},
   "outputs": [
    {
     "ename": "IndexError",
     "evalue": "list index out of range",
     "output_type": "error",
     "traceback": [
      "\u001b[1;31m---------------------------------------------------------------------------\u001b[0m",
      "\u001b[1;31mIndexError\u001b[0m                                Traceback (most recent call last)",
      "\u001b[1;32m~\\AppData\\Local\\Temp/ipykernel_9096/442314712.py\u001b[0m in \u001b[0;36m<module>\u001b[1;34m\u001b[0m\n\u001b[0;32m     19\u001b[0m \u001b[1;33m\u001b[0m\u001b[0m\n\u001b[0;32m     20\u001b[0m \u001b[1;32mfor\u001b[0m \u001b[0mi\u001b[0m \u001b[1;32min\u001b[0m \u001b[0mrange\u001b[0m\u001b[1;33m(\u001b[0m\u001b[0mlen\u001b[0m\u001b[1;33m(\u001b[0m\u001b[0musers\u001b[0m\u001b[1;33m)\u001b[0m\u001b[1;33m)\u001b[0m\u001b[1;33m:\u001b[0m\u001b[1;33m\u001b[0m\u001b[1;33m\u001b[0m\u001b[0m\n\u001b[1;32m---> 21\u001b[1;33m     \u001b[1;32mif\u001b[0m \u001b[0mnodes\u001b[0m\u001b[1;33m[\u001b[0m\u001b[0mi\u001b[0m\u001b[1;33m]\u001b[0m \u001b[1;32min\u001b[0m \u001b[0mrange\u001b[0m\u001b[1;33m(\u001b[0m\u001b[1;36m16\u001b[0m\u001b[1;33m)\u001b[0m\u001b[1;33m:\u001b[0m\u001b[1;33m\u001b[0m\u001b[1;33m\u001b[0m\u001b[0m\n\u001b[0m\u001b[0;32m     22\u001b[0m         \u001b[0mcat1_user\u001b[0m\u001b[1;33m.\u001b[0m\u001b[0madd\u001b[0m\u001b[1;33m(\u001b[0m\u001b[0musers\u001b[0m\u001b[1;33m[\u001b[0m\u001b[0mi\u001b[0m\u001b[1;33m]\u001b[0m\u001b[1;33m)\u001b[0m\u001b[1;33m\u001b[0m\u001b[1;33m\u001b[0m\u001b[0m\n\u001b[0;32m     23\u001b[0m         \u001b[0mcat1_commands\u001b[0m\u001b[1;33m.\u001b[0m\u001b[0madd\u001b[0m\u001b[1;33m(\u001b[0m\u001b[0mcommands\u001b[0m\u001b[1;33m[\u001b[0m\u001b[0mi\u001b[0m\u001b[1;33m]\u001b[0m\u001b[1;33m)\u001b[0m\u001b[1;33m\u001b[0m\u001b[1;33m\u001b[0m\u001b[0m\n",
      "\u001b[1;31mIndexError\u001b[0m: list index out of range"
     ]
    }
   ],
   "source": [
    "cat1_user=set()\n",
    "cat1_commands=set()\n",
    "cat1_project_area=set()\n",
    "cat2_user=set()\n",
    "cat2_commands=set()\n",
    "cat2_project_area=set()\n",
    "cat3_user=set()\n",
    "cat3_commands=set()\n",
    "cat3_project_area=set()\n",
    "cat4_user=set()\n",
    "cat4_commands=set()\n",
    "cat4_project_area=set()\n",
    "cat5_user=set()\n",
    "cat5_commands=set()\n",
    "cat5_project_area=set()\n",
    "cat6_user=set()\n",
    "cat6_commands=set()\n",
    "cat6_project_area=set()\n",
    "\n",
    "for i in range(len(users)):\n",
    "    if nodes[i] in range(16):\n",
    "        cat1_user.add(users[i])\n",
    "        cat1_commands.add(commands[i])\n",
    "        cat1_project_area.add(projects[i])\n",
    "    elif nodes[i] in range(16,32):\n",
    "        cat2_user.add(users[i])\n",
    "        cat2_commands.add(commands[i])\n",
    "        cat2_project_area.add(projects[i])\n",
    "    elif nodes[i] in range(32,64):\n",
    "        cat3_user.add(users[i])\n",
    "        cat3_commands.add(commands[i])\n",
    "        cat3_project_area.add(projects[i])\n",
    "    elif nodes[i] in range(64,500):\n",
    "        cat4_user.add(users[i])\n",
    "        cat4_commands.add(commands[i])\n",
    "        cat4_project_area.add(projects[i])\n",
    "    elif nodes[i] in range(500,15000):\n",
    "        cat5_user.add(users[i])\n",
    "        cat5_commands.add(commands[i])\n",
    "        cat5_project_area.add(projects[i])\n",
    "    else:\n",
    "        cat6_user.add(users[i])\n",
    "        cat6_commands.add(commands[i])\n",
    "        cat6_project_area.add(projects[i])\n",
    "print(\"For Category 1: \",cat1_user,cat1_project_area)\n",
    "print(\"\\nFor Category 2: \",cat2_user,cat2_project_area)\n",
    "print(\"\\nFor Category 3: \",cat3_user,cat3_project_area)\n",
    "print(\"\\nFor Category 4: \",cat4_user,cat4_project_area)\n",
    "print(\"\\nFor Category 5: \",cat5_user,cat5_project_area)\n",
    "print(\"\\nFor Category 6: \",cat6_user,cat6_project_area)\n",
    "\n",
    "data={\"<16\":len(cat1_user),\"16-32\":len(cat2_user),\"32-64\":len(cat3_user),\"64-500\":len(cat4_user),\"500-15000\":len(cat5_user),\">15000\":len(cat6_user)}\n",
    "categories=list(data.keys())\n",
    "values=list(data.values())\n",
    "plt.bar(categories, values, color ='maroon',\n",
    "        width = 0.4)\n",
    "plt.xlabel(\"Categories\")\n",
    "plt.ylabel(\"No. of users\")\n",
    "plt.title(\"No. Of Users in each Scale of Nodes\")\n",
    "plt.show()\n",
    "\n",
    "print(\"\\nFor Category 1: \",cat1_commands)\n",
    "print(\"\\nFor Category 2: \",cat2_commands)\n",
    "print(\"\\nFor Category 3: \",cat3_commands)\n",
    "print(\"\\nFor Category 4: \",cat4_commands)\n",
    "print(\"\\nFor Category 5: \",cat5_commands)\n",
    "print(\"\\nFor Category 6: \",cat6_commands)\n",
    "\n",
    "scaled_apps=set()\n",
    "for command in commands:\n",
    "    if command in cat1_commands and cat2_commands and cat3_commands and cat4_commands and cat5_commands and cat6_commands:\n",
    "        scaled_apps.add(command)\n",
    "        \n",
    "print(\"Scaled commands: \",scaled_apps)"
   ]
  },
  {
   "cell_type": "code",
   "execution_count": 28,
   "id": "e2d6cb25",
   "metadata": {},
   "outputs": [
    {
     "name": "stdout",
     "output_type": "stream",
     "text": [
      "No of unique users:  19 \n",
      "\n",
      "{'User761': {'Computer Science'}, 'User1282': {nan, 'Computer Science'}, 'User1028': {nan, 'High Energy Physics', 'Computer Science'}, 'User1172': {nan}, 'User424': {nan}, 'User1229': {nan}, 'User1377': {nan}, 'User1679': {nan}, 'User1704': {'Computer Science'}, 'User1337': {nan}, 'User161': {'Computer Science'}, 'User272': {nan}, 'User896': {'Computer Science'}, 'User889': {'Computer Science'}, 'User1135': {nan}, 'User281': {nan}, 'User1208': {nan}, 'User1685': {'Computer Science'}, 'User1568': {nan}}\n",
      "\n",
      " 7  users have worked on multiple projects with\n",
      "User1229  with the most number of projects\n",
      "2  users have worked on projects in different areas, of which one of them User1028 has worked in all provided areas and also has the highest node_count in his jobs\n"
     ]
    }
   ],
   "source": [
    "user_commands={}\n",
    "user_projects={}\n",
    "single_app_users=[]\n",
    "\n",
    "for i in range(len(users)):\n",
    "    if users[i] in user_commands:\n",
    "        user_commands[users[i]].add(commands[i])\n",
    "        user_projects[users[i]].add(projects[i])\n",
    "    else:\n",
    "        user_commands[users[i]]=set()\n",
    "        user_commands[users[i]].add(commands[i])\n",
    "        user_projects[users[i]]=set()\n",
    "        user_projects[users[i]].add(projects[i])\n",
    "        \n",
    "print(\"No of unique users: \",len(user_commands),'\\n')\n",
    "print(user_projects)\n",
    "\n",
    "max_user=\"\"\n",
    "max_projects=-2**31\n",
    "\n",
    "multiple_projects={}\n",
    "for key in user_commands:\n",
    "    if len(user_commands[key])>max_projects:\n",
    "        max_projects=len(user_commands[key])\n",
    "        max_user=key\n",
    "    if len(user_commands[key])>1:\n",
    "        multiple_projects[key]=user_commands[key]\n",
    "    if len(user_commands[key])==1:\n",
    "        single_app_users.append(key)\n",
    "        \n",
    "print(\"\\n\",len(multiple_projects),\" users have worked on multiple projects with\")\n",
    "print(max_user,\" with the most number of projects\")\n",
    "\n",
    "multiple_areas={}\n",
    "for key in user_projects:\n",
    "    if len(user_projects[key])>1:\n",
    "        multiple_areas[key]=user_projects[key]\n",
    "print(len(multiple_areas), \" users have worked on projects in different areas, of which one of them User1028 has worked in all provided areas and also has the highest node_count in his jobs\")"
   ]
  },
  {
   "cell_type": "code",
   "execution_count": 31,
   "id": "76bc8c21",
   "metadata": {},
   "outputs": [
    {
     "name": "stdout",
     "output_type": "stream",
     "text": [
      "Number of jobs with 1 node:  1340 \n",
      "No of nodes with node count in power of 2:  5226 \n",
      "No of nodes with node count as something else:  458\n",
      "We can consider 1 node to be a power of 2 as well 2^0, so 6566/7033 jobs are with a power of 2\n"
     ]
    }
   ],
   "source": [
    "count_of_1=0\n",
    "count_of_2=0\n",
    "others=0\n",
    "for i in range(len(nodes)):\n",
    "    if nodes[i]==1:\n",
    "        count_of_1+=1\n",
    "    elif nodes[i] in [2,4,8,16,32,64,128,256,512,1024,2048,4096]:\n",
    "        count_of_2+=1\n",
    "    else:\n",
    "        others+=1\n",
    "        #print(nodes[i])\n",
    "print(\"Number of jobs with 1 node: \",count_of_1,\"\\nNo of nodes with node count in power of 2: \", count_of_2,\"\\nNo of nodes with node count as something else: \",others)\n",
    "\n",
    "print(\"We can consider 1 node to be a power of 2 as well 2^0, so 6566/7033 jobs are with a power of 2\")"
   ]
  },
  {
   "cell_type": "code",
   "execution_count": 33,
   "id": "8fc345ff",
   "metadata": {},
   "outputs": [
    {
     "name": "stdout",
     "output_type": "stream",
     "text": [
      "['User1135', 'User1172', 'User1208', 'User1337', 'User1568', 'User161', 'User1685', 'User1704', 'User272', 'User761', 'User889', 'User896']\n",
      "\n",
      "I have taken just the users which have worked on a single command which is 12 users and tried to see if they scaled it up. But there doesnt seem to be a scaling situation for these users. Majority have run the commands in just Category 1, with only 2 of the users being in all categories 1-5\n",
      "\n",
      "\n",
      "Category 1:  {'User1135': 4, 'User1172': 616, 'User1208': 2, 'User1337': 43, 'User1568': 1, 'User161': 830, 'User1685': 3, 'User1704': 15, 'User272': 6, 'User761': 10, 'User889': 5, 'User896': 1} \n",
      "\n",
      "Category 2:  {'User1135': 0, 'User1172': 0, 'User1208': 0, 'User1337': 0, 'User1568': 0, 'User161': 26, 'User1685': 0, 'User1704': 5, 'User272': 0, 'User761': 834, 'User889': 0, 'User896': 0} \n",
      "\n",
      "Category 3:  {'User1135': 0, 'User1172': 0, 'User1208': 0, 'User1337': 0, 'User1568': 0, 'User161': 582, 'User1685': 0, 'User1704': 4, 'User272': 0, 'User761': 2692, 'User889': 0, 'User896': 0} \n",
      "\n",
      "Category 4:  {'User1135': 0, 'User1172': 0, 'User1208': 0, 'User1337': 0, 'User1568': 0, 'User161': 48, 'User1685': 0, 'User1704': 31, 'User272': 0, 'User761': 150, 'User889': 0, 'User896': 0} \n",
      "\n",
      "Category 5:  {'User1135': 0, 'User1172': 0, 'User1208': 0, 'User1337': 0, 'User1568': 0, 'User161': 0, 'User1685': 0, 'User1704': 30, 'User272': 0, 'User761': 2, 'User889': 0, 'User896': 0} \n",
      "\n",
      "Category 6:  {'User1135': 0, 'User1172': 0, 'User1208': 0, 'User1337': 0, 'User1568': 0, 'User161': 0, 'User1685': 0, 'User1704': 0, 'User272': 0, 'User761': 0, 'User889': 0, 'User896': 0}\n"
     ]
    }
   ],
   "source": [
    "single_app_users.sort()\n",
    "print(single_app_users)\n",
    "cat1={'User1135':0, 'User1172':0, 'User1208':0, 'User1337':0, 'User1568':0, 'User161':0, 'User1685':0, 'User1704':0, 'User272':0, 'User761':0, 'User889':0, 'User896':0}\n",
    "cat2={'User1135':0, 'User1172':0, 'User1208':0, 'User1337':0, 'User1568':0, 'User161':0, 'User1685':0, 'User1704':0, 'User272':0, 'User761':0, 'User889':0, 'User896':0}\n",
    "cat3={'User1135':0, 'User1172':0, 'User1208':0, 'User1337':0, 'User1568':0, 'User161':0, 'User1685':0, 'User1704':0, 'User272':0, 'User761':0, 'User889':0, 'User896':0}\n",
    "cat4={'User1135':0, 'User1172':0, 'User1208':0, 'User1337':0, 'User1568':0, 'User161':0, 'User1685':0, 'User1704':0, 'User272':0, 'User761':0, 'User889':0, 'User896':0}\n",
    "cat5={'User1135':0, 'User1172':0, 'User1208':0, 'User1337':0, 'User1568':0, 'User161':0, 'User1685':0, 'User1704':0, 'User272':0, 'User761':0, 'User889':0, 'User896':0}\n",
    "cat6={'User1135':0, 'User1172':0, 'User1208':0, 'User1337':0, 'User1568':0, 'User161':0, 'User1685':0, 'User1704':0, 'User272':0, 'User761':0, 'User889':0, 'User896':0}\n",
    "\n",
    "print(\"\\nI have taken just the users which have worked on a single command which is 12 users and tried to see if they scaled it up. But there doesnt seem to be a scaling situation for these users. Majority of the users are only present in category 1 with 2 of the users being in all categories from \")\n",
    "for i in range(len(nodes)):\n",
    "    if users[i] in single_app_users:\n",
    "        if nodes[i] in range(16):\n",
    "            cat1[users[i]]+=1\n",
    "        elif nodes[i] in range(16,32):\n",
    "            cat2[users[i]]+=1\n",
    "        elif nodes[i] in range(32,64):\n",
    "            cat3[users[i]]+=1\n",
    "        elif nodes[i] in range(64,500):\n",
    "            cat4[users[i]]+=1\n",
    "        elif nodes[i] in range(500,15000):\n",
    "            cat5[users[i]]+=1\n",
    "        else:\n",
    "            cat6[users[i]]+=1\n",
    "print('\\n\\nCategory 1: ',cat1,'\\n\\nCategory 2: ',cat2,'\\n\\nCategory 3: ',cat3,'\\n\\nCategory 4: ',cat4,'\\n\\nCategory 5: ',cat5,'\\n\\nCategory 6: ',cat6)\n"
   ]
  }
 ],
 "metadata": {
  "kernelspec": {
   "display_name": "Python 3 (ipykernel)",
   "language": "python",
   "name": "python3"
  },
  "language_info": {
   "codemirror_mode": {
    "name": "ipython",
    "version": 3
   },
   "file_extension": ".py",
   "mimetype": "text/x-python",
   "name": "python",
   "nbconvert_exporter": "python",
   "pygments_lexer": "ipython3",
   "version": "3.9.7"
  }
 },
 "nbformat": 4,
 "nbformat_minor": 5
}
