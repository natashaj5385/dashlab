{
 "cells": [
  {
   "cell_type": "code",
   "execution_count": 1,
   "id": "1f035219",
   "metadata": {},
   "outputs": [
    {
     "name": "stdout",
     "output_type": "stream",
     "text": [
      "      user_id         proj_area  node_count  \\\n",
      "0     User761  Computer Science        32.0   \n",
      "1     User761  Computer Science        32.0   \n",
      "2     User761  Computer Science        32.0   \n",
      "3     User761  Computer Science        32.0   \n",
      "4     User761  Computer Science        16.0   \n",
      "...       ...               ...         ...   \n",
      "7019  User761  Computer Science        32.0   \n",
      "7020  User761  Computer Science        32.0   \n",
      "7021  User761  Computer Science        32.0   \n",
      "7022  User761  Computer Science        16.0   \n",
      "7023  User761  Computer Science        16.0   \n",
      "\n",
      "                                    command  \n",
      "0     /lustre/atlas/User761/Area15-36/caffe  \n",
      "1     /lustre/atlas/User761/Area15-36/caffe  \n",
      "2     /lustre/atlas/User761/Area15-36/caffe  \n",
      "3     /lustre/atlas/User761/Area15-36/caffe  \n",
      "4     /lustre/atlas/User761/Area15-36/caffe  \n",
      "...                                     ...  \n",
      "7019  /lustre/atlas/User761/Area15-36/caffe  \n",
      "7020  /lustre/atlas/User761/Area15-36/caffe  \n",
      "7021  /lustre/atlas/User761/Area15-36/caffe  \n",
      "7022  /lustre/atlas/User761/Area15-36/caffe  \n",
      "7023  /lustre/atlas/User761/Area15-36/caffe  \n",
      "\n",
      "[7024 rows x 4 columns]\n"
     ]
    }
   ],
   "source": [
    "import numpy as np \n",
    "import pandas as pd\n",
    "import matplotlib.pyplot as plt\n",
    "import seaborn as sns\n",
    "titan = pd.read_csv('/Users/Natasha/Downloads/titan_dl_jobs_labelled.csv')\n",
    "df = pd.DataFrame(titan, columns= ['user_id','proj_area','node_count','command'])\n",
    "print(df)"
   ]
  },
  {
   "cell_type": "code",
   "execution_count": 2,
   "id": "7098e3f5",
   "metadata": {},
   "outputs": [
    {
     "name": "stdout",
     "output_type": "stream",
     "text": [
      "No. of Unique Users:  19\n",
      "{'<=16': 2222, '16-32': 931, '32-64': 3378, '64-500': 369, '500-15000': 111, '>15000': 13}\n"
     ]
    },
    {
     "data": {
      "image/png": "[encoded data removed]",
      "text/plain": [
       "<Figure size 432x288 with 1 Axes>"
      ]
     },
     "metadata": {
      "needs_background": "light"
     },
     "output_type": "display_data"
    }
   ],
   "source": [
    "users=[]\n",
    "projects=[]\n",
    "nodes=[]\n",
    "commands=[]\n",
    "nodes_hm={\"<10\":0,\"10-100\":0,\"100-500\":0,\"500-1000\":0,\">1000\":0}\n",
    "nodes_hm2={\"<=16\":0,\"16-32\":0,\"32-64\":0,\"64-500\":0,\"500-15000\":0,\">15000\":0}\n",
    "for user in df['user_id']:\n",
    "    users.append(user)\n",
    "for proj in df['proj_area']:\n",
    "    projects.append(proj)\n",
    "for comm in df['command']:\n",
    "    commands.append(comm)\n",
    "        \n",
    "for node in df['node_count']:\n",
    "    nodes.append(node)\n",
    "    if node<16:\n",
    "        nodes_hm2[\"<=16\"]+=1\n",
    "    elif node in range(16,32):\n",
    "        nodes_hm2[\"16-32\"]+=1\n",
    "    elif node in range(32,64):\n",
    "        nodes_hm2[\"32-64\"]+=1\n",
    "    elif node in range(64,500):\n",
    "        nodes_hm2[\"64-500\"]+=1\n",
    "    elif node in range(500,15000):\n",
    "        nodes_hm2[\"500-15000\"]+=1\n",
    "    else:\n",
    "        nodes_hm2[\">15000\"]+=1\n",
    "\n",
    "print(\"No. of Unique Users: \",len(set(users)))\n",
    " \n",
    "# # Show plot\n",
    "# plt.show()\n",
    "print(nodes_hm2)\n",
    "plt.hist(nodes, bins=[0,16,32,64,500,15000])\n",
    "plt.title(\"No. of jobs in each category\")\n",
    "plt.show()"
   ]
  },
  {
   "cell_type": "markdown",
   "id": "93547e89",
   "metadata": {},
   "source": [
    "count_hm={}\n",
    "project_hm={}\n",
    "for i in range(len(users)):\n",
    "    if users[i] in count_hm:\n",
    "        count_hm[users[i]]+=1\n",
    "    else:\n",
    "        count_hm[users[i]]=1\n",
    "print(\"Unique Users: \",len(count_hm))\n",
    "for i in range(len(projects)):\n",
    "    if projects[i] in project_hm:\n",
    "        project_hm[projects[i]]+=1\n",
    "    else:\n",
    "        project_hm[projects[i]]=1\n",
    "print(project_hm)"
   ]
  },
  {
   "cell_type": "code",
   "execution_count": 3,
   "id": "a9967f4b",
   "metadata": {},
   "outputs": [
    {
     "name": "stdout",
     "output_type": "stream",
     "text": [
      "For Category 1:  {'User1704', 'User896', 'User1377', 'User1282', 'User1679', 'User161', 'User1208', 'User1337', 'User1135', 'User1685', 'User272', 'User761', 'User424', 'User1028', 'User1172', 'User1229', 'User281', 'User889', 'User1568'} {nan, 'High Energy Physics', 'Computer Science'}\n",
      "\n",
      "For Category 2:  {'User1229', 'User761', 'User1704', 'User161', 'User1028', 'User1377', 'User1282'} {nan, 'Computer Science'}\n",
      "\n",
      "For Category 3:  {'User1229', 'User761', 'User1704', 'User161', 'User1377', 'User1282'} {nan, 'Computer Science'}\n",
      "\n",
      "For Category 4:  {'User1229', 'User761', 'User281', 'User1704', 'User161', 'User1028', 'User1377', 'User1282'} {nan, 'Computer Science'}\n",
      "\n",
      "For Category 5:  {'User761', 'User281', 'User1704', 'User1028', 'User1377', 'User1282'} {nan, 'High Energy Physics', 'Computer Science'}\n",
      "\n",
      "For Category 6:  {'User1028'} {'Computer Science'}\n"
     ]
    },
    {
     "data": {
      "image/png": "[encoded data removed]",
      "text/plain": [
       "<Figure size 432x288 with 1 Axes>"
      ]
     },
     "metadata": {
      "needs_background": "light"
     },
     "output_type": "display_data"
    },
    {
     "name": "stdout",
     "output_type": "stream",
     "text": [
      "\n",
      "For Category 1:  {'./caffe', '/lustre/atlas/User1282/Area15-177/MENNDL_MasterSlave_1file+pat', '/lustre/atlas/User1028/Area15-177/MENNDL', '/lustre/atlas/User1028/Area15-209/MENNDL_MasterSlave_bestfit', './train_lenet.sh', './cifar10_lenet_train_full_mos.sh', './dist-train-imagenet-gossip_x32_test', '/lustre/atlas/User1282/Area15-177/MENNDL_MasterSlave_1file_copies4', '/lustre/atlas/User896/Area15-177/MENNDL', '/lustre/atlas/User1704/Area15-242/caffe', './dist-train-imagenet-gossip_x128_test', './train_lenet_128.sh', './cifar10_alexnet_train_full_mos.sh', './caffe.bin', '/lustre/atlas/User1028/Area15-177/MENNDL_MasterSlave_bestfit', '/lustre/atlas/User1282/Area15-177/MENNDL_MasterSlave_bestfit', './new-dist-train-imagenet-titan_sync_x4_test', '/lustre/atlas/User1028/Area24-285/MENNDL', '/lustre/atlas/User1685/Area15-177/MENNDL_MasterSlave_bestfit', 'Area15-177/caffe.bin', './lenet', '/lustre/atlas/User1282/Area15-177/MENNDL_MasterSlave', './train_caffenet.sh', 'Area15-177/caffe', '/lustre/atlas/User161/Area15-36/caffe', '/lustre/atlas/User1282/Area15-177/MENNDL_MasterSlave_1file', '/lustre/atlas/User761/Area15-36/caffe', './run_caffe.sh', '/lustre/atlas2/User889/Area15-36/caffe', './MENNDL_MasterSlave'}\n",
      "\n",
      "For Category 2:  {'./new-dist-train-imagenet-titan_pullgossip_x16_test_preload', './train_lenet.sh', './new-dist-train-imagenet-titan_pullgossip_x128_test', './new-dist-train-imagenet-titan_pullgossip_x16_test_inverse_step', './dist-train-imagenet-gossip_x32_test', '/lustre/atlas/User1282/Area15-177/MENNDL_MasterSlave_1file_copies4', '/lustre/atlas/User1704/Area15-242/caffe', './dist-train-imagenet-gossip_x128_test', './new-dist-train-imagenet-titan_pullgossip_x128_run1', './new-dist-train-imagenet-titan_pullgossip_x16_test_sync_both', '/lustre/atlas/User1282/Area15-177/MENNDL_MasterSlave_1file_copies6', '/lustre/atlas/User1028/Area15-177/MENNDL_MasterSlave_bestfit', './new-dist-train-imagenet-titan_pullgossip_x16_test_batch32', './new-dist-train-imagenet-titan_sync_x16_test', './dist-train-imagenet-pullgossip_x128_run2', './new-dist-train-imagenet-titan_elastic_x16_test', './dist-train-imagenet-sync_x16_run1', './train_caffenet.sh', './new-dist-train-imagenet-titan_sync_x16_test2', './dist-train-imagenet-pullgossip_x16_test3', '/lustre/atlas/User161/Area15-36/caffe', './new-dist-train-imagenet-titan_pullgossip_x128_run2_pt2_test', '/lustre/atlas/User761/Area15-36/caffe', './dist-train-imagenet-sync_x128_run1'}\n",
      "\n",
      "For Category 3:  {'./new-dist-train-imagenet-titan_sync_x32_run1', './new-dist-train-imagenet-titan_sync_x32_run2_minibatch128', '/lustre/atlas/User161/Area15-36/caffe', '/lustre/atlas/User1282/Area15-177/MENNDL_MasterSlave_1file', '/lustre/atlas/User1704/Area15-242/caffe', './new-dist-train-imagenet-titan_pullgossip_x32_run2_minibatch128', './new-dist-train-imagenet-titan_elastic_x32_run1', '/lustre/atlas/User761/Area15-36/caffe', '/lustre/atlas/User1282/Area15-177/MENNDL_MasterSlave', './train_lenet.sh', './train_caffenet.sh', './new-dist-train-imagenet-titan_pullgossip_x32_run1'}\n",
      "\n",
      "For Category 4:  {'./new-dist-train-imagenet-titan_sync_x128_run2_pt2', './new-dist-train-imagenet-titan_pullgossip_x128_run2_pt2', './new-dist-train-imagenet-titan_pullgossip_x128_run17_sync_order', '/lustre/atlas/User1028/Area15-177/MENNDL', '/lustre/atlas/User1282/Area15-177/MENNDL_MasterSlave_1file_copies6b', './new-dist-train-imagenet-titan_pullgossip_x128_run6_stepsize', './new-dist-train-imagenet-titan_pullgossip_x128_run10_stepsize4', './new-dist-train-imagenet-titan_pullgossip_x64_run1', './train_lenet.sh', '/lustre/atlas/User1282/Area15-177/MENNDL_MasterSlave_1file_copies4', '/lustre/atlas/User1704/Area15-242/caffe', './new-dist-train-imagenet-titan_sync_x128_run5_minibatch128', './new-dist-train-imagenet-titan_sync_x64_run1', '/lustre/atlas/User1282/Area15-177/MENNDL_MasterSlave_1file_copies5', './new-dist-train-imagenet-titan_pullgossip_x128_run9_stepsize3', './new-dist-train-imagenet-titan_pullgossip_x128_run6_pt3_stepsize', './new-dist-train-imagenet-titan_sync_x128_run6_fast_anneal', './new-dist-train-imagenet-titan_pullgossip_x128_run1', './dist-train-imagenet-pullgossip_x128_run1', '/lustre/atlas/User1282/Area15-177/MENNDL_MasterSlave_1file_copies6', '/lustre/atlas/User1028/Area15-177/MENNDL_MasterSlave_bestfit', '/lustre/atlas/User1282/Area15-177/MENNDL_MasterSlave_bestfit', './new-dist-train-imagenet-titan_pullgossip_x128_run19_fast_anneal_mixed', './new-dist-train-imagenet-titan_pullgossip_x128_run14_mixed', './dist-train-imagenet-pullgossip_x128_run2', './new-dist-train-imagenet-titan_pullgossip_x128_run8_stepsize2', './new-dist-train-imagenet-titan_pullgossip_x256_run1', './new-dist-train-imagenet-titan_sync_x128_run4_stb', './train_caffenet128.sh', './train_caffenet.sh', './new-dist-train-imagenet-titan_pullgossip_x128_run15_fast_anneal', './new-dist-train-imagenet-titan_pullgossip_x128_run2', './new-dist-train-imagenet-titan_pullgossip_x128_run12_minibatch128', '/lustre/atlas/User1282/Area15-177/MENNDL_MasterSlave_1file', '/lustre/atlas/User161/Area15-36/caffe', './new-dist-train-imagenet-titan_pullgossip_x128_run20', './new-dist-train-imagenet-titan_pullgossip_x128_run13_mixed', '/lustre/atlas/User761/Area15-36/caffe', './new-dist-train-imagenet-titan_pullgossip_x128_run16_fast_anneal_sync_both', './MENNDL_MasterSlave'}\n",
      "\n",
      "For Category 5:  {'/lustre/atlas/User1282/Area15-177/MENNDL_MasterSlave_bestfit', '/lustre/atlas/User1282/Area15-177/MENNDL_MasterSlave_1file_copies5', './MENNDL_MasterSlave', '/lustre/atlas/User1282/Area15-177/MENNDL_MasterSlave_bestfit_copies5', '/lustre/atlas/User1028/Area15-177/MENNDL', '/lustre/atlas/User1028/Area24-285/MENNDL', '/lustre/atlas/User1282/Area15-177/MENNDL_MasterSlave_1file', '/lustre/atlas/User1282/Area15-177/MENNDL_MasterSlave_bestfit_scaled', '/lustre/atlas/User1028/Area15-209/MENNDL_MasterSlave_bestfit', './train_lenet.sh', '/lustre/atlas/User761/Area15-36/caffe', '/lustre/atlas/User1282/Area15-177/MENNDL_MasterSlave_1file_copies6', '/lustre/atlas/User1282/Area15-177/MENNDL_MasterSlave_1file_5000', '/lustre/atlas/User1282/Area15-177/MENNDL_MasterSlave_1file_1000', '/lustre/atlas/User1282/Area15-177/MENNDL_MasterSlave_bestfit_notscaled', '/lustre/atlas/User1028/Area15-177/MENNDL_MasterSlave_bestfit', '/lustre/atlas/User1704/Area15-242/caffe'}\n",
      "\n",
      "For Category 6:  {'/lustre/atlas/User1028/Area15-177/MENNDL_MasterSlave_bestfit', '/lustre/atlas/User1028/Area15-209/MENNDL_MasterSlave_bestfit'}\n",
      "Scaled commands:  {'./caffe', '/lustre/atlas/User1282/Area15-177/MENNDL_MasterSlave_1file+pat', '/lustre/atlas/User1028/Area15-177/MENNDL', '/lustre/atlas/User1028/Area15-209/MENNDL_MasterSlave_bestfit', './train_lenet.sh', './cifar10_lenet_train_full_mos.sh', './dist-train-imagenet-gossip_x32_test', '/lustre/atlas/User1282/Area15-177/MENNDL_MasterSlave_1file_copies4', '/lustre/atlas/User896/Area15-177/MENNDL', '/lustre/atlas/User1704/Area15-242/caffe', './dist-train-imagenet-gossip_x128_test', './train_lenet_128.sh', './cifar10_alexnet_train_full_mos.sh', './caffe.bin', '/lustre/atlas/User1028/Area15-177/MENNDL_MasterSlave_bestfit', '/lustre/atlas/User1282/Area15-177/MENNDL_MasterSlave_bestfit', './new-dist-train-imagenet-titan_sync_x4_test', '/lustre/atlas/User1028/Area24-285/MENNDL', '/lustre/atlas/User1685/Area15-177/MENNDL_MasterSlave_bestfit', 'Area15-177/caffe.bin', './lenet', '/lustre/atlas/User1282/Area15-177/MENNDL_MasterSlave', './train_caffenet.sh', 'Area15-177/caffe', '/lustre/atlas/User161/Area15-36/caffe', '/lustre/atlas/User1282/Area15-177/MENNDL_MasterSlave_1file', '/lustre/atlas/User761/Area15-36/caffe', './run_caffe.sh', '/lustre/atlas2/User889/Area15-36/caffe', './MENNDL_MasterSlave'}\n"
     ]
    }
   ],
   "source": [
    "cat1_user=set()\n",
    "cat1_commands=set()\n",
    "cat1_project_area=set()\n",
    "cat2_user=set()\n",
    "cat2_commands=set()\n",
    "cat2_project_area=set()\n",
    "cat3_user=set()\n",
    "cat3_commands=set()\n",
    "cat3_project_area=set()\n",
    "cat4_user=set()\n",
    "cat4_commands=set()\n",
    "cat4_project_area=set()\n",
    "cat5_user=set()\n",
    "cat5_commands=set()\n",
    "cat5_project_area=set()\n",
    "cat6_user=set()\n",
    "cat6_commands=set()\n",
    "cat6_project_area=set()\n",
    "\n",
    "for i in range(len(users)):\n",
    "    if nodes[i] in range(16):\n",
    "        cat1_user.add(users[i])\n",
    "        cat1_commands.add(commands[i])\n",
    "        cat1_project_area.add(projects[i])\n",
    "    elif nodes[i] in range(16,32):\n",
    "        cat2_user.add(users[i])\n",
    "        cat2_commands.add(commands[i])\n",
    "        cat2_project_area.add(projects[i])\n",
    "    elif nodes[i] in range(32,64):\n",
    "        cat3_user.add(users[i])\n",
    "        cat3_commands.add(commands[i])\n",
    "        cat3_project_area.add(projects[i])\n",
    "    elif nodes[i] in range(64,500):\n",
    "        cat4_user.add(users[i])\n",
    "        cat4_commands.add(commands[i])\n",
    "        cat4_project_area.add(projects[i])\n",
    "    elif nodes[i] in range(500,15000):\n",
    "        cat5_user.add(users[i])\n",
    "        cat5_commands.add(commands[i])\n",
    "        cat5_project_area.add(projects[i])\n",
    "    else:\n",
    "        cat6_user.add(users[i])\n",
    "        cat6_commands.add(commands[i])\n",
    "        cat6_project_area.add(projects[i])\n",
    "print(\"For Category 1: \",cat1_user,cat1_project_area)\n",
    "print(\"\\nFor Category 2: \",cat2_user,cat2_project_area)\n",
    "print(\"\\nFor Category 3: \",cat3_user,cat3_project_area)\n",
    "print(\"\\nFor Category 4: \",cat4_user,cat4_project_area)\n",
    "print(\"\\nFor Category 5: \",cat5_user,cat5_project_area)\n",
    "print(\"\\nFor Category 6: \",cat6_user,cat6_project_area)\n",
    "\n",
    "data={\"<16\":len(cat1_user),\"16-32\":len(cat2_user),\"32-64\":len(cat3_user),\"64-500\":len(cat4_user),\"500-15000\":len(cat5_user),\">15000\":len(cat6_user)}\n",
    "categories=list(data.keys())\n",
    "values=list(data.values())\n",
    "plt.bar(categories, values, color ='maroon',\n",
    "        width = 0.4)\n",
    "plt.xlabel(\"Categories\")\n",
    "plt.ylabel(\"No. of users\")\n",
    "plt.title(\"No. Of Users in each Scale of Nodes\")\n",
    "plt.show()\n",
    "\n",
    "print(\"\\nFor Category 1: \",cat1_commands)\n",
    "print(\"\\nFor Category 2: \",cat2_commands)\n",
    "print(\"\\nFor Category 3: \",cat3_commands)\n",
    "print(\"\\nFor Category 4: \",cat4_commands)\n",
    "print(\"\\nFor Category 5: \",cat5_commands)\n",
    "print(\"\\nFor Category 6: \",cat6_commands)\n",
    "\n",
    "scaled_apps=set()\n",
    "for command in commands:\n",
    "    if command in cat1_commands and cat2_commands and cat3_commands and cat4_commands and cat5_commands and cat6_commands:\n",
    "        scaled_apps.add(command)\n",
    "        \n",
    "print(\"Scaled commands: \",scaled_apps)"
   ]
  },
  {
   "cell_type": "code",
   "execution_count": 4,
   "id": "e2d6cb25",
   "metadata": {},
   "outputs": [
    {
     "name": "stdout",
     "output_type": "stream",
     "text": [
      "No of unique users:  19 \n",
      "\n",
      "{'User761': {'Computer Science'}, 'User1282': {nan, 'Computer Science'}, 'User1028': {nan, 'High Energy Physics', 'Computer Science'}, 'User1172': {nan}, 'User424': {nan}, 'User1229': {nan}, 'User1377': {nan}, 'User1679': {nan}, 'User1704': {'Computer Science'}, 'User1337': {nan}, 'User161': {'Computer Science'}, 'User272': {nan}, 'User896': {'Computer Science'}, 'User889': {'Computer Science'}, 'User1135': {nan}, 'User281': {nan}, 'User1208': {nan}, 'User1685': {'Computer Science'}, 'User1568': {nan}}\n",
      "\n",
      " 7  users have worked on multiple projects with\n",
      "User1229  with the most number of projects\n",
      "2  users have worked on projects in different areas, of which one of them User1028 has worked in all provided areas and also has the highest node_count in his jobs\n"
     ]
    }
   ],
   "source": [
    "user_commands={}\n",
    "user_projects={}\n",
    "single_app_users=[]\n",
    "\n",
    "for i in range(len(users)):\n",
    "    if users[i] in user_commands:\n",
    "        user_commands[users[i]].add(commands[i])\n",
    "        user_projects[users[i]].add(projects[i])\n",
    "    else:\n",
    "        user_commands[users[i]]=set()\n",
    "        user_commands[users[i]].add(commands[i])\n",
    "        user_projects[users[i]]=set()\n",
    "        user_projects[users[i]].add(projects[i])\n",
    "        \n",
    "print(\"No of unique users: \",len(user_commands),'\\n')\n",
    "print(user_projects)\n",
    "\n",
    "max_user=\"\"\n",
    "max_projects=-2**31\n",
    "\n",
    "multiple_projects={}\n",
    "for key in user_commands:\n",
    "    if len(user_commands[key])>max_projects:\n",
    "        max_projects=len(user_commands[key])\n",
    "        max_user=key\n",
    "    if len(user_commands[key])>1:\n",
    "        multiple_projects[key]=user_commands[key]\n",
    "    if len(user_commands[key])==1:\n",
    "        single_app_users.append(key)\n",
    "        \n",
    "print(\"\\n\",len(multiple_projects),\" users have worked on multiple projects with\")\n",
    "print(max_user,\" with the most number of projects\")\n",
    "\n",
    "multiple_areas={}\n",
    "for key in user_projects:\n",
    "    if len(user_projects[key])>1:\n",
    "        multiple_areas[key]=user_projects[key]\n",
    "print(len(multiple_areas), \" users have worked on projects in different areas, of which one of them User1028 has worked in all provided areas and also has the highest node_count in his jobs\")"
   ]
  },
  {
   "cell_type": "code",
   "execution_count": 5,
   "id": "76bc8c21",
   "metadata": {},
   "outputs": [
    {
     "name": "stdout",
     "output_type": "stream",
     "text": [
      "Number of jobs with 1 node:  1340 \n",
      "No of nodes with node count in power of 2:  5226 \n",
      "No of nodes with node count as something else:  458\n",
      "We can consider 1 node to be a power of 2 as well 2^0, so 6566/7024 jobs are with a power of 2\n",
      "The other count of nodes seem to be random number not powers of 10:  {129, 257, 3, 513, 5, 6, 130, 5000, 9, 10, 11, 12, 17, 18, 258, 15000, 25, 28, 33, 34, 50, 51, 3000, 65, 66, 18000, 350, 12000, 101, 1000, 1001, 500, 501, 251}\n"
     ]
    }
   ],
   "source": [
    "count_of_1=0\n",
    "count_of_2=0\n",
    "others=0\n",
    "other_nodes=set()\n",
    "for i in range(len(nodes)):\n",
    "    if nodes[i]==1:\n",
    "        count_of_1+=1\n",
    "    elif nodes[i] in [2,4,8,16,32,64,128,256,512,1024,2048,4096]:\n",
    "        count_of_2+=1\n",
    "    else:\n",
    "        others+=1\n",
    "        other_nodes.add(int(nodes[i]))\n",
    "        #print(nodes[i])\n",
    "print(\"Number of jobs with 1 node: \",count_of_1,\"\\nNo of nodes with node count in power of 2: \", count_of_2,\"\\nNo of nodes with node count as something else: \",others)\n",
    "\n",
    "print(\"We can consider 1 node to be a power of 2 as well 2^0, so 6566/7024 jobs are with a power of 2\")\n",
    "\n",
    "print(\"The other count of nodes seem to be random number not powers of 10: \",other_nodes)"
   ]
  },
  {
   "cell_type": "code",
   "execution_count": 6,
   "id": "8fc345ff",
   "metadata": {},
   "outputs": [
    {
     "name": "stdout",
     "output_type": "stream",
     "text": [
      "['User1135', 'User1172', 'User1208', 'User1337', 'User1568', 'User161', 'User1685', 'User1704', 'User272', 'User761', 'User889', 'User896']\n",
      "\n",
      "I have taken just the users which have worked on a single command which is 12 users and tried to see if they scaled it up. But there doesnt seem to be a scaling situation for these users. Majority of the users are only present in category 1 with 2 of the users being in all categories from \n",
      "\n",
      "\n",
      "Category 1:  {'User1135': 4, 'User1172': 616, 'User1208': 2, 'User1337': 43, 'User1568': 1, 'User161': 830, 'User1685': 3, 'User1704': 15, 'User272': 6, 'User761': 10, 'User889': 5, 'User896': 1} \n",
      "\n",
      "Category 2:  {'User1135': 0, 'User1172': 0, 'User1208': 0, 'User1337': 0, 'User1568': 0, 'User161': 26, 'User1685': 0, 'User1704': 5, 'User272': 0, 'User761': 834, 'User889': 0, 'User896': 0} \n",
      "\n",
      "Category 3:  {'User1135': 0, 'User1172': 0, 'User1208': 0, 'User1337': 0, 'User1568': 0, 'User161': 582, 'User1685': 0, 'User1704': 4, 'User272': 0, 'User761': 2692, 'User889': 0, 'User896': 0} \n",
      "\n",
      "Category 4:  {'User1135': 0, 'User1172': 0, 'User1208': 0, 'User1337': 0, 'User1568': 0, 'User161': 48, 'User1685': 0, 'User1704': 31, 'User272': 0, 'User761': 150, 'User889': 0, 'User896': 0} \n",
      "\n",
      "Category 5:  {'User1135': 0, 'User1172': 0, 'User1208': 0, 'User1337': 0, 'User1568': 0, 'User161': 0, 'User1685': 0, 'User1704': 30, 'User272': 0, 'User761': 2, 'User889': 0, 'User896': 0} \n",
      "\n",
      "Category 6:  {'User1135': 0, 'User1172': 0, 'User1208': 0, 'User1337': 0, 'User1568': 0, 'User161': 0, 'User1685': 0, 'User1704': 0, 'User272': 0, 'User761': 0, 'User889': 0, 'User896': 0}\n"
     ]
    }
   ],
   "source": [
    "single_app_users.sort()\n",
    "print(single_app_users)\n",
    "cat1={'User1135':0, 'User1172':0, 'User1208':0, 'User1337':0, 'User1568':0, 'User161':0, 'User1685':0, 'User1704':0, 'User272':0, 'User761':0, 'User889':0, 'User896':0}\n",
    "cat2={'User1135':0, 'User1172':0, 'User1208':0, 'User1337':0, 'User1568':0, 'User161':0, 'User1685':0, 'User1704':0, 'User272':0, 'User761':0, 'User889':0, 'User896':0}\n",
    "cat3={'User1135':0, 'User1172':0, 'User1208':0, 'User1337':0, 'User1568':0, 'User161':0, 'User1685':0, 'User1704':0, 'User272':0, 'User761':0, 'User889':0, 'User896':0}\n",
    "cat4={'User1135':0, 'User1172':0, 'User1208':0, 'User1337':0, 'User1568':0, 'User161':0, 'User1685':0, 'User1704':0, 'User272':0, 'User761':0, 'User889':0, 'User896':0}\n",
    "cat5={'User1135':0, 'User1172':0, 'User1208':0, 'User1337':0, 'User1568':0, 'User161':0, 'User1685':0, 'User1704':0, 'User272':0, 'User761':0, 'User889':0, 'User896':0}\n",
    "cat6={'User1135':0, 'User1172':0, 'User1208':0, 'User1337':0, 'User1568':0, 'User161':0, 'User1685':0, 'User1704':0, 'User272':0, 'User761':0, 'User889':0, 'User896':0}\n",
    "\n",
    "print(\"\\nI have taken just the users which have worked on a single command which is 12 users and tried to see if they scaled it up. But there doesnt seem to be a scaling situation for these users. Majority of the users are only present in category 1 with 2 of the users being in all categories from \")\n",
    "for i in range(len(nodes)):\n",
    "    if users[i] in single_app_users:\n",
    "        if nodes[i] in range(16):\n",
    "            cat1[users[i]]+=1\n",
    "        elif nodes[i] in range(16,32):\n",
    "            cat2[users[i]]+=1\n",
    "        elif nodes[i] in range(32,64):\n",
    "            cat3[users[i]]+=1\n",
    "        elif nodes[i] in range(64,500):\n",
    "            cat4[users[i]]+=1\n",
    "        elif nodes[i] in range(500,15000):\n",
    "            cat5[users[i]]+=1\n",
    "        else:\n",
    "            cat6[users[i]]+=1\n",
    "print('\\n\\nCategory 1: ',cat1,'\\n\\nCategory 2: ',cat2,'\\n\\nCategory 3: ',cat3,'\\n\\nCategory 4: ',cat4,'\\n\\nCategory 5: ',cat5,'\\n\\nCategory 6: ',cat6)\n"
   ]
  },
  {
   "cell_type": "code",
   "execution_count": 7,
   "id": "c72c0238",
   "metadata": {},
   "outputs": [
    {
     "name": "stdout",
     "output_type": "stream",
     "text": [
      "['User1135', 'User1172', 'User1208', 'User1337', 'User1568', 'User161', 'User1685', 'User1704', 'User272', 'User761', 'User889', 'User896']\n"
     ]
    }
   ],
   "source": [
    "print(single_app_users)"
   ]
  },
  {
   "cell_type": "code",
   "execution_count": 10,
   "id": "47aaf9ba",
   "metadata": {},
   "outputs": [
    {
     "name": "stdout",
     "output_type": "stream",
     "text": [
      "{'User1229', 'User281', 'User1679', 'User424', 'User1028', 'User1377', 'User1282'}\n"
     ]
    }
   ],
   "source": [
    "multiple_app_users=set()\n",
    "for user in users:\n",
    "    if user not in single_app_users:\n",
    "        multiple_app_users.add(user)\n",
    "print(multiple_app_users)"
   ]
  },
  {
   "cell_type": "code",
   "execution_count": 11,
   "id": "61d4f44e",
   "metadata": {},
   "outputs": [
    {
     "name": "stdout",
     "output_type": "stream",
     "text": [
      "{'User1282': {'/lustre/atlas/User1282/Area15-177/MENNDL_MasterSlave_bestfit', '/lustre/atlas/User1282/Area15-177/MENNDL_MasterSlave_1file_copies5', './caffe', '/lustre/atlas/User1282/Area15-177/MENNDL_MasterSlave_1file+pat', '/lustre/atlas/User1282/Area15-177/MENNDL_MasterSlave_bestfit_copies5', '/lustre/atlas/User1282/Area15-177/MENNDL_MasterSlave_bestfit_notscaled', '/lustre/atlas/User1282/Area15-177/MENNDL_MasterSlave_1file', '/lustre/atlas/User1282/Area15-177/MENNDL_MasterSlave_1file_copies6b', '/lustre/atlas/User1282/Area15-177/MENNDL_MasterSlave_bestfit_scaled', '/lustre/atlas/User1282/Area15-177/MENNDL_MasterSlave', '/lustre/atlas/User1282/Area15-177/MENNDL_MasterSlave_1file_copies6', '/lustre/atlas/User1282/Area15-177/MENNDL_MasterSlave_1file_5000', '/lustre/atlas/User1282/Area15-177/MENNDL_MasterSlave_1file_1000', '/lustre/atlas/User1282/Area15-177/MENNDL_MasterSlave_1file_copies4', './MENNDL_MasterSlave'}, 'User1028': {'./caffe', '/lustre/atlas/User1028/Area15-177/MENNDL', '/lustre/atlas/User1028/Area24-285/MENNDL', 'Area15-177/caffe.bin', '/lustre/atlas/User1028/Area15-209/MENNDL_MasterSlave_bestfit', './train_lenet.sh', './train_caffenet.sh', 'Area15-177/caffe', './caffe.bin', '/lustre/atlas/User1028/Area15-177/MENNDL_MasterSlave_bestfit', './MENNDL_MasterSlave'}, 'User424': {'./caffe', './train_lenet.sh'}, 'User1229': {'./new-dist-train-imagenet-titan_sync_x128_run2_pt2', './new-dist-train-imagenet-titan_pullgossip_x128_run2_pt2', './new-dist-train-imagenet-titan_pullgossip_x128_run17_sync_order', './new-dist-train-imagenet-titan_pullgossip_x16_test_preload', './new-dist-train-imagenet-titan_pullgossip_x128_run6_stepsize', './new-dist-train-imagenet-titan_pullgossip_x32_run2_minibatch128', './new-dist-train-imagenet-titan_pullgossip_x128_run10_stepsize4', './new-dist-train-imagenet-titan_pullgossip_x64_run1', './new-dist-train-imagenet-titan_pullgossip_x128_test', './dist-train-imagenet-gossip_x32_test', './new-dist-train-imagenet-titan_pullgossip_x16_test_inverse_step', './new-dist-train-imagenet-titan_sync_x128_run5_minibatch128', './new-dist-train-imagenet-titan_sync_x64_run1', './dist-train-imagenet-gossip_x128_test', './new-dist-train-imagenet-titan_pullgossip_x128_run9_stepsize3', './new-dist-train-imagenet-titan_pullgossip_x128_run6_pt3_stepsize', './new-dist-train-imagenet-titan_sync_x128_run6_fast_anneal', './new-dist-train-imagenet-titan_pullgossip_x128_run1', './new-dist-train-imagenet-titan_pullgossip_x16_test_sync_both', './dist-train-imagenet-pullgossip_x128_run1', './new-dist-train-imagenet-titan_elastic_x32_run1', './new-dist-train-imagenet-titan_pullgossip_x32_run1', './new-dist-train-imagenet-titan_pullgossip_x16_test_batch32', './new-dist-train-imagenet-titan_pullgossip_x128_run19_fast_anneal_mixed', './new-dist-train-imagenet-titan_sync_x16_test', './new-dist-train-imagenet-titan_sync_x4_test', './new-dist-train-imagenet-titan_pullgossip_x128_run14_mixed', './dist-train-imagenet-pullgossip_x128_run2', './new-dist-train-imagenet-titan_sync_x32_run2_minibatch128', './new-dist-train-imagenet-titan_pullgossip_x128_run8_stepsize2', './new-dist-train-imagenet-titan_elastic_x16_test', './new-dist-train-imagenet-titan_pullgossip_x256_run1', './dist-train-imagenet-sync_x16_run1', './new-dist-train-imagenet-titan_sync_x128_run4_stb', './new-dist-train-imagenet-titan_sync_x16_test2', './dist-train-imagenet-pullgossip_x16_test3', './new-dist-train-imagenet-titan_pullgossip_x128_run15_fast_anneal', './new-dist-train-imagenet-titan_pullgossip_x128_run2', './new-dist-train-imagenet-titan_pullgossip_x128_run12_minibatch128', './new-dist-train-imagenet-titan_sync_x32_run1', './new-dist-train-imagenet-titan_pullgossip_x128_run2_pt2_test', './new-dist-train-imagenet-titan_pullgossip_x128_run20', './new-dist-train-imagenet-titan_pullgossip_x128_run13_mixed', './dist-train-imagenet-sync_x128_run1', './new-dist-train-imagenet-titan_pullgossip_x128_run16_fast_anneal_sync_both'}, 'User1377': {'./train_lenet_128.sh', './train_lenet.sh', './train_caffenet.sh', './train_caffenet128.sh'}, 'User1679': {'./train_lenet.sh', './cifar10_alexnet_train_full_mos.sh', './cifar10_lenet_train_full_mos.sh'}, 'User281': {'./caffe', './MENNDL_MasterSlave'}}\n"
     ]
    }
   ],
   "source": [
    "for key in multiple_projects:\n",
    "    print(\"User: \",key)\n",
    "    comms=multiple_projects[key]\n",
    "    "
   ]
  },
  {
   "cell_type": "code",
   "execution_count": null,
   "id": "5bc5eb44",
   "metadata": {},
   "outputs": [],
   "source": [
    "for user in multiple_app_users:\n",
    "    print(user)\n",
    "    scaling={\"cat1\":0,\"cat2\":0,}\n",
    "    for i in range(len(users)):\n",
    "        if users[i]==user:\n",
    "            if nodes[i] in range(16):\n",
    "                cat1[users[i]]+=1\n",
    "            elif nodes[i] in range(16,32):\n",
    "                cat2[users[i]]+=1\n",
    "            elif nodes[i] in range(32,64):\n",
    "                cat3[users[i]]+=1\n",
    "            elif nodes[i] in range(64,500):\n",
    "                cat4[users[i]]+=1\n",
    "            elif nodes[i] in range(500,15000):\n",
    "                cat5[users[i]]+=1\n",
    "            else:\n",
    "                cat6[users[i]]+=1"
   ]
  }
 ],
 "metadata": {
  "kernelspec": {
   "display_name": "Python 3 (ipykernel)",
   "language": "python",
   "name": "python3"
  },
  "language_info": {
   "codemirror_mode": {
    "name": "ipython",
    "version": 3
   },
   "file_extension": ".py",
   "mimetype": "text/x-python",
   "name": "python",
   "nbconvert_exporter": "python",
   "pygments_lexer": "ipython3",
   "version": "3.9.7"
  }
 },
 "nbformat": 4,
 "nbformat_minor": 5
}
